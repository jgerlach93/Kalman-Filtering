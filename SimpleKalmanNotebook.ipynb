{
 "cells": [
  {
   "cell_type": "code",
   "execution_count": 20,
   "metadata": {
    "collapsed": false
   },
   "outputs": [],
   "source": [
    "import pandas as pd\n",
    "from scipy.optimize import minimize\n",
    "from numpy import log, invert\n",
    "from scipy import *\n",
    "import numpy as np\n",
    "import itertools\n",
    "import numdifftools as ndt\n",
    "import matplotlib.pyplot as plt"
   ]
  },
  {
   "cell_type": "code",
   "execution_count": 212,
   "metadata": {
    "collapsed": false
   },
   "outputs": [],
   "source": [
    "def simulate1DLinModel(a,b,c,x0,n,ns=100,u=None,sig2v=0.01,sig2r=0.01,plot=False):\n",
    "    # Generate a linear model time series\n",
    "    \n",
    "    # Initial Defs\n",
    "    x,y=np.zeros(n),np.zeros(n)\n",
    "    x[0]=x0\n",
    "    if u==None:\n",
    "        u=np.random.randn(n)\n",
    "    elif u==False:\n",
    "        u=np.zeros(n)\n",
    "    dt=np.float(n)/ns\n",
    "    \n",
    "    # Discretized Model Parameters\n",
    "    F=np.exp(a*dt)\n",
    "    G=(b/a)*(np.exp(a*dt)-1)\n",
    "    v=sig2v*np.random.randn(n)\n",
    "    r=sig2r*np.random.randn(n)\n",
    "    print 'F: ',F\n",
    "    print 'G: ',G\n",
    "    \n",
    "    # Generation x,y\n",
    "    for j in range(1,n):\n",
    "        x[j]=F*x[j-1]+G*(u[j-1]+v[j-1])\n",
    "        y[j]=c*x[j]+r[j]\n",
    "    \n",
    "    # Plot Option\n",
    "    if plot==True:\n",
    "        plt.plot(range(n),x,label='x: system state')\n",
    "        plt.plot(range(n),y,label='y: output signal')\n",
    "        plt.legend()\n",
    "        plt.show()\n",
    "        \n",
    "    return x,y    "
   ]
  },
  {
   "cell_type": "code",
   "execution_count": 219,
   "metadata": {
    "collapsed": false
   },
   "outputs": [
    {
     "name": "stdout",
     "output_type": "stream",
     "text": [
      "F:  1.00020002\n",
      "G:  3.00030002\n"
     ]
    },
    {
     "data": {
      "image/png": "[encoded data removed]",
      "text/plain": [
       "<matplotlib.figure.Figure at 0xce1dd68>"
      ]
     },
     "metadata": {},
     "output_type": "display_data"
    }
   ],
   "source": [
    "x,y=simulate1DLinModel(0.00002,0.3,0.2,0,10000,1000,u=False,plot=True)"
   ]
  },
  {
   "cell_type": "code",
   "execution_count": null,
   "metadata": {
    "collapsed": true
   },
   "outputs": [],
   "source": [
    "def simpleKalmanFilter():\n",
    "    # Estimate State Space Vector\n",
    "    \n",
    "    _,y=simulate1DLinModel(...)\n",
    "    xhat"
   ]
  },
  {
   "cell_type": "code",
   "execution_count": 206,
   "metadata": {
    "collapsed": false
   },
   "outputs": [
    {
     "name": "stdout",
     "output_type": "stream",
     "text": [
      "475570943.606\n"
     ]
    }
   ],
   "source": [
    "print 1.002**10000"
   ]
  },
  {
   "cell_type": "code",
   "execution_count": null,
   "metadata": {
    "collapsed": true
   },
   "outputs": [],
   "source": []
  }
 ],
 "metadata": {
  "kernelspec": {
   "display_name": "Python [default]",
   "language": "python",
   "name": "python2"
  },
  "language_info": {
   "codemirror_mode": {
    "name": "ipython",
    "version": 2
   },
   "file_extension": ".py",
   "mimetype": "text/x-python",
   "name": "python",
   "nbconvert_exporter": "python",
   "pygments_lexer": "ipython2",
   "version": "2.7.12"
  }
 },
 "nbformat": 4,
 "nbformat_minor": 2
}
