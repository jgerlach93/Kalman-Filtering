{
 "cells": [
  {
   "cell_type": "code",
   "execution_count": 1,
   "metadata": {
    "collapsed": false
   },
   "outputs": [
    {
     "name": "stdout",
     "output_type": "stream",
     "text": [
      "no talib\n"
     ]
    }
   ],
   "source": [
    "import sys\n",
    "sys.path.append('C:\\Users\\J-C\\OneDrive\\ODDocs\\+PhD\\Programming\\Local\\LPPLS')\n",
    "sys.path.append('C:\\Users\\J-C\\OneDrive\\ODDocs\\+PhD\\Programming\\Github\\AllFunctions')\n",
    "\n",
    "import pylppl as lp\n",
    "import scipy as sp\n",
    "import numpy as np\n",
    "import pandas as pd\n",
    "import matplotlib.pyplot as plt\n",
    "import mpld3\n",
    "# mpld3.enable_notebook()\n",
    "# import data_functions as dfn\n",
    "import sloppy_func as slf\n",
    "\n",
    "# from sklearn.cluster import KMeans\n",
    "# import portfolio_functions as pf\n",
    "# from sklearn.datasets import make_blobs\n",
    "# from sklearn.cluster import KMeans\n",
    "# from sklearn.metrics import silhouette_samples, silhouette_score\n",
    "\n"
   ]
  },
  {
   "cell_type": "code",
   "execution_count": 2,
   "metadata": {
    "collapsed": false
   },
   "outputs": [],
   "source": [
    "data = pd.read_hdf('C:\\Users\\J-C\\OneDrive\\ODDocs\\+PhD\\Programming\\Local\\LPPLS\\N_stocks_1990_2015.h5','res')"
   ]
  },
  {
   "cell_type": "code",
   "execution_count": 3,
   "metadata": {
    "collapsed": false
   },
   "outputs": [],
   "source": [
    "Y1 = data[data.columns[100]]"
   ]
  },
  {
   "cell_type": "code",
   "execution_count": 4,
   "metadata": {
    "collapsed": false
   },
   "outputs": [
    {
     "data": {
      "image/png": "[encoded data removed]",
      "text/plain": [
       "<matplotlib.figure.Figure at 0x10e50898>"
      ]
     },
     "metadata": {},
     "output_type": "display_data"
    }
   ],
   "source": [
    "Y1['2000-01-01':'2013-01-01'].plot(color='k', figsize=(6,3))\n",
    "dtmax = 2500\n",
    "t2 = '2011-08-20' # approx 1 month after first crash\n",
    "plt.axvline(t2,color='r')\n",
    "plt.axvline(pd.Timestamp(t2) - dtmax * pd.Timedelta('1D'),color='r')\n",
    "plt.tight_layout()\n",
    "plt.show()"
   ]
  },
  {
   "cell_type": "code",
   "execution_count": 5,
   "metadata": {
    "collapsed": false
   },
   "outputs": [
    {
     "data": {
      "image/png": "[encoded data removed]",
      "text/plain": [
       "<matplotlib.figure.Figure at 0x11105860>"
      ]
     },
     "metadata": {},
     "output_type": "display_data"
    }
   ],
   "source": [
    "Y1['2000-01-01':'2013-01-01'].plot(color='k', figsize=(6,3))\n",
    "dtmax = 2500\n",
    "t2 = '2011-08-20' # approx 1 month after first crash\n",
    "\n",
    "res_single=lp.fit_series(Y1,t2,dtmax)\n",
    "\n",
    "plt.axvline(t2,color='r')\n",
    "plt.axvline('2011-07-01',color='r')\n",
    "plt.axvline(pd.Timestamp(t2) + res_single.loc[t2,'tc'] * pd.Timedelta('1D'),color='b')\n",
    "plt.axvline(pd.Timestamp(t2) - dtmax * pd.Timedelta('1D'),color='r')\n",
    "plt.tight_layout()\n",
    "plt.show()\n"
   ]
  },
  {
   "cell_type": "markdown",
   "metadata": {
    "collapsed": true
   },
   "source": [
    "## Multifit"
   ]
  },
  {
   "cell_type": "code",
   "execution_count": 6,
   "metadata": {
    "collapsed": false
   },
   "outputs": [
    {
     "name": "stderr",
     "output_type": "stream",
     "text": [
      "C:\\Users\\J-C\\OneDrive\\ODDocs\\+PhD\\Programming\\Local\\LPPLS\\pylppl_model.py:95: RuntimeWarning: overflow encountered in multiply\n",
      "  [0, np.sum(g * g), np.sum(g * f1), np.sum(g * f2)],\n",
      "C:\\Users\\J-C\\OneDrive\\ODDocs\\+PhD\\Programming\\Local\\LPPLS\\pylppl_model.py:96: RuntimeWarning: overflow encountered in multiply\n",
      "  [0, 0, np.sum(f1 * f1), np.sum(f1 * f2)],\n",
      "C:\\Users\\J-C\\OneDrive\\ODDocs\\+PhD\\Programming\\Local\\LPPLS\\pylppl_model.py:97: RuntimeWarning: overflow encountered in multiply\n",
      "  [0, 0, 0, np.sum(f2 * f2)]])\n",
      "C:\\Users\\J-C\\OneDrive\\ODDocs\\+PhD\\Programming\\Local\\LPPLS\\pylppl_model.py:85: RuntimeWarning: overflow encountered in power\n",
      "  g = np.power(np.abs(tc - t), m)\n"
     ]
    },
    {
     "name": "stdout",
     "output_type": "stream",
     "text": [
      "\r",
      "Progress:  4.0 %"
     ]
    },
    {
     "name": "stderr",
     "output_type": "stream",
     "text": [
      "C:\\Users\\J-C\\OneDrive\\ODDocs\\+PhD\\Programming\\Local\\LPPLS\\pylppl_model.py:83: RuntimeWarning: divide by zero encountered in log\n",
      "  arg = w * np.log(np.abs(tc - t))\n",
      "C:\\Users\\J-C\\OneDrive\\ODDocs\\+PhD\\Programming\\Local\\LPPLS\\pylppl_model.py:86: RuntimeWarning: invalid value encountered in cos\n",
      "  f1 = g * np.cos(arg)\n",
      "C:\\Users\\J-C\\OneDrive\\ODDocs\\+PhD\\Programming\\Local\\LPPLS\\pylppl_model.py:87: RuntimeWarning: invalid value encountered in sin\n",
      "  f2 = g * np.sin(arg)\n"
     ]
    },
    {
     "name": "stdout",
     "output_type": "stream",
     "text": [
      "Progress:  76.0 %                "
     ]
    },
    {
     "name": "stderr",
     "output_type": "stream",
     "text": [
      "C:\\Users\\J-C\\OneDrive\\ODDocs\\+PhD\\Programming\\Local\\LPPLS\\pylppl_model.py:55: RuntimeWarning: overflow encountered in double_scalars\n",
      "  return math.sqrt(C1 ** 2 + C2 ** 2), math.atan2(C2, C1)\n"
     ]
    },
    {
     "name": "stdout",
     "output_type": "stream",
     "text": [
      "Progress:  100.0 %Wall time: 1min 55s\n",
      "\n"
     ]
    }
   ],
   "source": [
    "%%time \n",
    "res = pd.DataFrame()\n",
    "dtmax=2500\n",
    "n=25 # number of spacings\n",
    "dt_range = np.linspace(30, dtmax, n)\n",
    "j=1.0\n",
    "for dt in dt_range:\n",
    "    resdt=lp.fit_series(Y1,t2,dt) # non-log P-t series\n",
    "    res = pd.concat([res,resdt], axis = 0) \n",
    "    print '\\r', 'Progress: ', np.round(j/len(dt_range),4)*100,'%',\n",
    "    j+=1"
   ]
  },
  {
   "cell_type": "code",
   "execution_count": 7,
   "metadata": {
    "collapsed": false
   },
   "outputs": [
    {
     "name": "stdout",
     "output_type": "stream",
     "text": [
      "                   tc         m         w         A         B        C1  \\\n",
      "2011-08-20 -46.126882  0.911645  6.231752  3.771408 -0.002388  0.000065   \n",
      "2011-08-20 -42.742998  0.816627  7.911990  3.791314 -0.004283 -0.000006   \n",
      "2011-08-20 -47.053101  0.804078  7.353443  3.792426 -0.004682  0.000086   \n",
      "2011-08-20 -49.183140  0.718558  7.331356  3.816144 -0.008196  0.000422   \n",
      "2011-08-20 -50.568993  0.639110  7.015876  3.841341 -0.013796  0.001027   \n",
      "2011-08-20 -50.430498  0.646133  7.068362  3.837950 -0.013145  0.001387   \n",
      "2011-08-20 -51.441273  0.628365  6.943203  3.848144 -0.014905  0.000253   \n",
      "2011-08-20 -52.684044  0.585588  6.630463  3.873489 -0.020196 -0.002214   \n",
      "2011-08-20 -52.612591  0.567906  6.553022  3.886472 -0.022972 -0.001741   \n",
      "2011-08-20 -52.375898  0.556843  6.488894  3.894946 -0.024900 -0.000944   \n",
      "2011-08-20 -52.869914  0.515748  6.473727  3.930492 -0.033821 -0.000795   \n",
      "2011-08-20 -55.409103  0.501240  6.571472  3.942326 -0.037733 -0.002362   \n",
      "\n",
      "                  C2         C       phi       SSE           dt  \n",
      "2011-08-20  0.000158  0.000171  1.178981  1.378475   750.416667  \n",
      "2011-08-20 -0.000225  0.000225 -1.596126  1.513973   853.333333  \n",
      "2011-08-20  0.000231  0.000247  1.214061  1.969490   956.250000  \n",
      "2011-08-20  0.000628  0.000756  0.978285  2.693799  1059.166667  \n",
      "2011-08-20 -0.001494  0.001813 -0.968627  3.683018  1162.083333  \n",
      "2011-08-20 -0.001032  0.001728 -0.639550  3.764936  1265.000000  \n",
      "2011-08-20 -0.001867  0.001884 -1.436271  4.126538  1367.916667  \n",
      "2011-08-20  0.000660  0.002310  2.851869  4.585974  1470.833333  \n",
      "2011-08-20  0.001725  0.002451  2.360701  4.920429  1573.750000  \n",
      "2011-08-20  0.002345  0.002528  1.953506  5.373724  1676.666667  \n",
      "2011-08-20  0.002698  0.002812  1.857237  6.468886  1779.583333  \n",
      "2011-08-20  0.001865  0.003009  2.473381  6.867809  1882.500000  \n"
     ]
    }
   ],
   "source": [
    "# FILTER RESULTS\n",
    "results=pd.DataFrame()\n",
    "results=lp.filter_LPPL(res,basic=True,w=[6,13],ctime=[-0.5,0.5]) \n",
    "print results"
   ]
  },
  {
   "cell_type": "code",
   "execution_count": 110,
   "metadata": {
    "collapsed": false
   },
   "outputs": [
    {
     "name": "stdout",
     "output_type": "stream",
     "text": [
      "Most probable tc (tc_mp):  2011-06-29\n",
      "pdf(tc_mp):  0.110998459736\n",
      "Probabilty of tc in I=[ 2011-06-19 2011-07-09 ]: \n",
      "0.966555448978\n"
     ]
    },
    {
     "data": {
      "image/png": "[encoded data removed]",
      "text/plain": [
       "<matplotlib.figure.Figure at 0x1298ec18>"
      ]
     },
     "metadata": {},
     "output_type": "display_data"
    }
   ],
   "source": [
    "# Estimate pdf(tc) from sweeping window fit\n",
    "\n",
    "# isolate t2s\n",
    "tc=results.loc[t2,'tc']\n",
    "tc=tc.as_matrix()\n",
    "\n",
    "# estimate pdf wiht gaussian kernel\n",
    "Kernel=sp.stats.gaussian_kde(tc) # object\n",
    "probs=Kernel.evaluate(tc)\n",
    "\n",
    "# PLOTTING\n",
    "# from t1 - t2+100 or tc+100\n",
    "tcmax=max(tc)\n",
    "t1=pd.Timestamp(t2) - dtmax * pd.Timedelta('1D')\n",
    "t2p=pd.Timestamp(t2) + (max(int(tcmax),0) + 99) * pd.Timedelta('1D')     # t2p=100 for tcmax<0, t2p=tcmax+100 for tcmax>=0\n",
    "daterange=pd.date_range(t1,t2p)\n",
    "# calculate pdf \"daily\"\n",
    "pdf=Kernel.evaluate(range(-dtmax,max(0,int(tcmax)) + 100))\n",
    "pdftime=pd.Series(pdf,daterange)\n",
    "\n",
    "# find most probable tc\n",
    "ix=np.argmax(pdf) # index of t* -> p(t*)=pmax\n",
    "tc_mp=pd.Timestamp(t2)+(ix-dtmax)*pd.Timedelta('1D')\n",
    "print 'Most probable tc (tc_mp): ',tc_mp.date()\n",
    "print 'pdf(tc_mp): ', pdftime[tc_mp]\n",
    "\n",
    "# calculate probability of tc being in the interval I=[tc-Dt,tc+Dt]\n",
    "Dt=10\n",
    "lb=tc_mp - Dt * pd.Timedelta('1D')\n",
    "hb=tc_mp + Dt * pd.Timedelta('1D')\n",
    "print 'Probabilty of tc in I=[',lb.date(),hb.date(),']: '\n",
    "low=-1*(pd.Timestamp(t2)-lb) / np.timedelta64(1, 'D')\n",
    "high=-1*(pd.Timestamp(t2)-hb) / np.timedelta64(1, 'D')\n",
    "p=Kernel.integrate_box_1d(low,high) # sum(pdf[i-Dt:i+Dt]) # discrete\n",
    "print p\n",
    "\n",
    "# plt.plot(rest2,probs)\n",
    "plt.plot(daterange,pdf)\n",
    "plt.tight_layout()\n",
    "plt.show() "
   ]
  },
  {
   "cell_type": "code",
   "execution_count": null,
   "metadata": {
    "collapsed": false
   },
   "outputs": [],
   "source": []
  },
  {
   "cell_type": "code",
   "execution_count": null,
   "metadata": {
    "collapsed": false
   },
   "outputs": [],
   "source": []
  },
  {
   "cell_type": "code",
   "execution_count": null,
   "metadata": {
    "collapsed": true
   },
   "outputs": [],
   "source": []
  }
 ],
 "metadata": {
  "kernelspec": {
   "display_name": "Python [default]",
   "language": "python",
   "name": "python2"
  },
  "language_info": {
   "codemirror_mode": {
    "name": "ipython",
    "version": 2
   },
   "file_extension": ".py",
   "mimetype": "text/x-python",
   "name": "python",
   "nbconvert_exporter": "python",
   "pygments_lexer": "ipython2",
   "version": "2.7.12"
  }
 },
 "nbformat": 4,
 "nbformat_minor": 2
}
